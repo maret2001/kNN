{
 "cells": [
  {
   "cell_type": "markdown",
   "metadata": {},
   "source": [
    "## Maret Ismoyo"
   ]
  },
  {
   "cell_type": "markdown",
   "metadata": {},
   "source": [
    "### Import Library"
   ]
  },
  {
   "cell_type": "code",
   "execution_count": 1,
   "metadata": {},
   "outputs": [],
   "source": [
    "# main library\n",
    "import numpy as np\n",
    "import pandas as pd\n",
    "\n",
    "# data exploration\n",
    "import matplotlib.pyplot as plt\n",
    "import seaborn as sns\n",
    "\n",
    "# preprocessing\n",
    "from sklearn.preprocessing import LabelEncoder\n",
    "from sklearn.preprocessing import MinMaxScaler\n",
    "\n",
    "# modelling\n",
    "from sklearn.model_selection import train_test_split\n",
    "from sklearn.neighbors import KNeighborsClassifier\n",
    "\n",
    "# evaluation\n",
    "from sklearn.metrics import accuracy_score, precision_score, recall_score, classification_report\n",
    "from sklearn.metrics import confusion_matrix, plot_confusion_matrix\n",
    "\n",
    "# menghapus pesan warning ketika running time\n",
    "import warnings\n",
    "warnings.filterwarnings('ignore')"
   ]
  },
  {
   "cell_type": "markdown",
   "metadata": {},
   "source": [
    "### Load and Read Data"
   ]
  },
  {
   "cell_type": "code",
   "execution_count": 2,
   "metadata": {},
   "outputs": [
    {
     "data": {
      "text/html": [
       "<div>\n",
       "<style scoped>\n",
       "    .dataframe tbody tr th:only-of-type {\n",
       "        vertical-align: middle;\n",
       "    }\n",
       "\n",
       "    .dataframe tbody tr th {\n",
       "        vertical-align: top;\n",
       "    }\n",
       "\n",
       "    .dataframe thead th {\n",
       "        text-align: right;\n",
       "    }\n",
       "</style>\n",
       "<table border=\"1\" class=\"dataframe\">\n",
       "  <thead>\n",
       "    <tr style=\"text-align: right;\">\n",
       "      <th></th>\n",
       "      <th>customer_id</th>\n",
       "      <th>product</th>\n",
       "      <th>reload_1</th>\n",
       "      <th>reload_2</th>\n",
       "      <th>video</th>\n",
       "      <th>music</th>\n",
       "      <th>games</th>\n",
       "      <th>chat_1</th>\n",
       "      <th>chat_2</th>\n",
       "      <th>socmed_1</th>\n",
       "      <th>socmed_2</th>\n",
       "      <th>internet</th>\n",
       "      <th>days_active</th>\n",
       "      <th>tenure</th>\n",
       "      <th>churn</th>\n",
       "    </tr>\n",
       "  </thead>\n",
       "  <tbody>\n",
       "    <tr>\n",
       "      <th>0</th>\n",
       "      <td>285fae8412c4720a0c79d95f98434422</td>\n",
       "      <td>Kartu A</td>\n",
       "      <td>27734.30</td>\n",
       "      <td>24381.32</td>\n",
       "      <td>22000.0</td>\n",
       "      <td>33009.9</td>\n",
       "      <td>25669.97</td>\n",
       "      <td>1716.0</td>\n",
       "      <td>2145.0</td>\n",
       "      <td>0.0</td>\n",
       "      <td>792.0</td>\n",
       "      <td>11000.0</td>\n",
       "      <td>15</td>\n",
       "      <td>776</td>\n",
       "      <td>0</td>\n",
       "    </tr>\n",
       "    <tr>\n",
       "      <th>1</th>\n",
       "      <td>f45bce87ca6bf100f222fcc0db06b624</td>\n",
       "      <td>Kartu A</td>\n",
       "      <td>26433.00</td>\n",
       "      <td>26515.50</td>\n",
       "      <td>0.0</td>\n",
       "      <td>0.0</td>\n",
       "      <td>0.00</td>\n",
       "      <td>0.0</td>\n",
       "      <td>15444.0</td>\n",
       "      <td>0.0</td>\n",
       "      <td>0.0</td>\n",
       "      <td>74151.0</td>\n",
       "      <td>13</td>\n",
       "      <td>352</td>\n",
       "      <td>0</td>\n",
       "    </tr>\n",
       "    <tr>\n",
       "      <th>2</th>\n",
       "      <td>09b54557b1e2a10d998e3473a9ccd2a0</td>\n",
       "      <td>Kartu A</td>\n",
       "      <td>93212.17</td>\n",
       "      <td>67101.83</td>\n",
       "      <td>0.0</td>\n",
       "      <td>0.0</td>\n",
       "      <td>0.00</td>\n",
       "      <td>86795.5</td>\n",
       "      <td>94649.5</td>\n",
       "      <td>330.0</td>\n",
       "      <td>1485.0</td>\n",
       "      <td>27467.0</td>\n",
       "      <td>15</td>\n",
       "      <td>1987</td>\n",
       "      <td>0</td>\n",
       "    </tr>\n",
       "    <tr>\n",
       "      <th>3</th>\n",
       "      <td>11f252f48be36f93dd429f2ec86cb2f5</td>\n",
       "      <td>Kartu A</td>\n",
       "      <td>183.33</td>\n",
       "      <td>1087.17</td>\n",
       "      <td>0.0</td>\n",
       "      <td>0.0</td>\n",
       "      <td>0.00</td>\n",
       "      <td>0.0</td>\n",
       "      <td>0.0</td>\n",
       "      <td>0.0</td>\n",
       "      <td>0.0</td>\n",
       "      <td>0.0</td>\n",
       "      <td>2</td>\n",
       "      <td>285</td>\n",
       "      <td>0</td>\n",
       "    </tr>\n",
       "    <tr>\n",
       "      <th>4</th>\n",
       "      <td>a8df29ae9195eea348d2f74c967b978d</td>\n",
       "      <td>Kartu A</td>\n",
       "      <td>95296.67</td>\n",
       "      <td>76246.50</td>\n",
       "      <td>0.0</td>\n",
       "      <td>0.0</td>\n",
       "      <td>11000.00</td>\n",
       "      <td>118800.0</td>\n",
       "      <td>104940.0</td>\n",
       "      <td>0.0</td>\n",
       "      <td>0.0</td>\n",
       "      <td>63855.0</td>\n",
       "      <td>15</td>\n",
       "      <td>1081</td>\n",
       "      <td>0</td>\n",
       "    </tr>\n",
       "    <tr>\n",
       "      <th>5</th>\n",
       "      <td>fe7d85497167d0e0ad78b067ce5027d0</td>\n",
       "      <td>Kartu A</td>\n",
       "      <td>9821.90</td>\n",
       "      <td>19623.45</td>\n",
       "      <td>0.0</td>\n",
       "      <td>0.0</td>\n",
       "      <td>0.00</td>\n",
       "      <td>0.0</td>\n",
       "      <td>0.0</td>\n",
       "      <td>0.0</td>\n",
       "      <td>0.0</td>\n",
       "      <td>0.0</td>\n",
       "      <td>0</td>\n",
       "      <td>1692</td>\n",
       "      <td>0</td>\n",
       "    </tr>\n",
       "    <tr>\n",
       "      <th>6</th>\n",
       "      <td>0be864c61321827ecb0ba7ba43c78227</td>\n",
       "      <td>Kartu A</td>\n",
       "      <td>109855.17</td>\n",
       "      <td>77300.67</td>\n",
       "      <td>0.0</td>\n",
       "      <td>0.0</td>\n",
       "      <td>0.00</td>\n",
       "      <td>87763.5</td>\n",
       "      <td>146938.0</td>\n",
       "      <td>660.0</td>\n",
       "      <td>1155.0</td>\n",
       "      <td>44280.5</td>\n",
       "      <td>6</td>\n",
       "      <td>4348</td>\n",
       "      <td>0</td>\n",
       "    </tr>\n",
       "    <tr>\n",
       "      <th>7</th>\n",
       "      <td>e2f2824dbef8cebbf2fc784775f83757</td>\n",
       "      <td>Kartu A</td>\n",
       "      <td>91120.33</td>\n",
       "      <td>70059.92</td>\n",
       "      <td>0.0</td>\n",
       "      <td>0.0</td>\n",
       "      <td>0.00</td>\n",
       "      <td>85701.0</td>\n",
       "      <td>62205.0</td>\n",
       "      <td>264.0</td>\n",
       "      <td>3432.0</td>\n",
       "      <td>15378.0</td>\n",
       "      <td>15</td>\n",
       "      <td>1963</td>\n",
       "      <td>0</td>\n",
       "    </tr>\n",
       "    <tr>\n",
       "      <th>8</th>\n",
       "      <td>838bf8775315c79375a4684c73963884</td>\n",
       "      <td>Kartu A</td>\n",
       "      <td>13321.00</td>\n",
       "      <td>13018.50</td>\n",
       "      <td>0.0</td>\n",
       "      <td>0.0</td>\n",
       "      <td>0.00</td>\n",
       "      <td>1716.0</td>\n",
       "      <td>1287.0</td>\n",
       "      <td>0.0</td>\n",
       "      <td>0.0</td>\n",
       "      <td>0.0</td>\n",
       "      <td>15</td>\n",
       "      <td>1932</td>\n",
       "      <td>0</td>\n",
       "    </tr>\n",
       "    <tr>\n",
       "      <th>9</th>\n",
       "      <td>b5872b3fd78ff00f85a5820638ad875a</td>\n",
       "      <td>Kartu A</td>\n",
       "      <td>82826.70</td>\n",
       "      <td>124709.38</td>\n",
       "      <td>0.0</td>\n",
       "      <td>129999.1</td>\n",
       "      <td>43333.03</td>\n",
       "      <td>10296.0</td>\n",
       "      <td>12012.0</td>\n",
       "      <td>0.0</td>\n",
       "      <td>0.0</td>\n",
       "      <td>123333.1</td>\n",
       "      <td>15</td>\n",
       "      <td>3020</td>\n",
       "      <td>0</td>\n",
       "    </tr>\n",
       "  </tbody>\n",
       "</table>\n",
       "</div>"
      ],
      "text/plain": [
       "                        customer_id  product   reload_1   reload_2    video  \\\n",
       "0  285fae8412c4720a0c79d95f98434422  Kartu A   27734.30   24381.32  22000.0   \n",
       "1  f45bce87ca6bf100f222fcc0db06b624  Kartu A   26433.00   26515.50      0.0   \n",
       "2  09b54557b1e2a10d998e3473a9ccd2a0  Kartu A   93212.17   67101.83      0.0   \n",
       "3  11f252f48be36f93dd429f2ec86cb2f5  Kartu A     183.33    1087.17      0.0   \n",
       "4  a8df29ae9195eea348d2f74c967b978d  Kartu A   95296.67   76246.50      0.0   \n",
       "5  fe7d85497167d0e0ad78b067ce5027d0  Kartu A    9821.90   19623.45      0.0   \n",
       "6  0be864c61321827ecb0ba7ba43c78227  Kartu A  109855.17   77300.67      0.0   \n",
       "7  e2f2824dbef8cebbf2fc784775f83757  Kartu A   91120.33   70059.92      0.0   \n",
       "8  838bf8775315c79375a4684c73963884  Kartu A   13321.00   13018.50      0.0   \n",
       "9  b5872b3fd78ff00f85a5820638ad875a  Kartu A   82826.70  124709.38      0.0   \n",
       "\n",
       "      music     games    chat_1    chat_2  socmed_1  socmed_2  internet  \\\n",
       "0   33009.9  25669.97    1716.0    2145.0       0.0     792.0   11000.0   \n",
       "1       0.0      0.00       0.0   15444.0       0.0       0.0   74151.0   \n",
       "2       0.0      0.00   86795.5   94649.5     330.0    1485.0   27467.0   \n",
       "3       0.0      0.00       0.0       0.0       0.0       0.0       0.0   \n",
       "4       0.0  11000.00  118800.0  104940.0       0.0       0.0   63855.0   \n",
       "5       0.0      0.00       0.0       0.0       0.0       0.0       0.0   \n",
       "6       0.0      0.00   87763.5  146938.0     660.0    1155.0   44280.5   \n",
       "7       0.0      0.00   85701.0   62205.0     264.0    3432.0   15378.0   \n",
       "8       0.0      0.00    1716.0    1287.0       0.0       0.0       0.0   \n",
       "9  129999.1  43333.03   10296.0   12012.0       0.0       0.0  123333.1   \n",
       "\n",
       "   days_active  tenure  churn  \n",
       "0           15     776      0  \n",
       "1           13     352      0  \n",
       "2           15    1987      0  \n",
       "3            2     285      0  \n",
       "4           15    1081      0  \n",
       "5            0    1692      0  \n",
       "6            6    4348      0  \n",
       "7           15    1963      0  \n",
       "8           15    1932      0  \n",
       "9           15    3020      0  "
      ]
     },
     "execution_count": 2,
     "metadata": {},
     "output_type": "execute_result"
    }
   ],
   "source": [
    "files = pd.read_csv('customer_churn_dataset.csv')\n",
    "files.head(10)"
   ]
  },
  {
   "cell_type": "code",
   "execution_count": 3,
   "metadata": {},
   "outputs": [
    {
     "data": {
      "text/plain": [
       "(10000, 15)"
      ]
     },
     "execution_count": 3,
     "metadata": {},
     "output_type": "execute_result"
    }
   ],
   "source": [
    "files.shape"
   ]
  },
  {
   "cell_type": "code",
   "execution_count": 4,
   "metadata": {},
   "outputs": [
    {
     "data": {
      "text/plain": [
       "Index(['customer_id', 'product', 'reload_1', 'reload_2', 'video', 'music',\n",
       "       'games', 'chat_1', 'chat_2', 'socmed_1', 'socmed_2', 'internet',\n",
       "       'days_active', 'tenure', 'churn'],\n",
       "      dtype='object')"
      ]
     },
     "execution_count": 4,
     "metadata": {},
     "output_type": "execute_result"
    }
   ],
   "source": [
    "files.columns"
   ]
  },
  {
   "cell_type": "code",
   "execution_count": 5,
   "metadata": {},
   "outputs": [
    {
     "data": {
      "image/png": "[encoded data removed]",
      "text/plain": [
       "<Figure size 432x288 with 1 Axes>"
      ]
     },
     "metadata": {
      "needs_background": "light"
     },
     "output_type": "display_data"
    }
   ],
   "source": [
    "files['product'].value_counts().plot(kind='bar', \n",
    "                                     color=['red', 'green','blue'])\n",
    "plt.show()"
   ]
  },
  {
   "cell_type": "markdown",
   "metadata": {},
   "source": [
    "### Preprocessing Data"
   ]
  },
  {
   "cell_type": "code",
   "execution_count": 6,
   "metadata": {},
   "outputs": [],
   "source": [
    "le = LabelEncoder()\n",
    "files['product'] = le.fit_transform(files['product'])"
   ]
  },
  {
   "cell_type": "code",
   "execution_count": 7,
   "metadata": {},
   "outputs": [
    {
     "data": {
      "text/plain": [
       "(10000, 14)"
      ]
     },
     "execution_count": 7,
     "metadata": {},
     "output_type": "execute_result"
    }
   ],
   "source": [
    "file = files.drop('customer_id', axis=1)\n",
    "file.shape"
   ]
  },
  {
   "cell_type": "code",
   "execution_count": 8,
   "metadata": {},
   "outputs": [
    {
     "data": {
      "text/html": [
       "<div>\n",
       "<style scoped>\n",
       "    .dataframe tbody tr th:only-of-type {\n",
       "        vertical-align: middle;\n",
       "    }\n",
       "\n",
       "    .dataframe tbody tr th {\n",
       "        vertical-align: top;\n",
       "    }\n",
       "\n",
       "    .dataframe thead th {\n",
       "        text-align: right;\n",
       "    }\n",
       "</style>\n",
       "<table border=\"1\" class=\"dataframe\">\n",
       "  <thead>\n",
       "    <tr style=\"text-align: right;\">\n",
       "      <th></th>\n",
       "      <th>product</th>\n",
       "      <th>reload_1</th>\n",
       "      <th>reload_2</th>\n",
       "      <th>video</th>\n",
       "      <th>music</th>\n",
       "      <th>games</th>\n",
       "      <th>chat_1</th>\n",
       "      <th>chat_2</th>\n",
       "      <th>socmed_1</th>\n",
       "      <th>socmed_2</th>\n",
       "      <th>internet</th>\n",
       "      <th>days_active</th>\n",
       "      <th>tenure</th>\n",
       "      <th>churn</th>\n",
       "    </tr>\n",
       "  </thead>\n",
       "  <tbody>\n",
       "    <tr>\n",
       "      <th>0</th>\n",
       "      <td>0.0</td>\n",
       "      <td>0.001138</td>\n",
       "      <td>0.001957</td>\n",
       "      <td>0.0317</td>\n",
       "      <td>0.042926</td>\n",
       "      <td>0.038048</td>\n",
       "      <td>0.000440</td>\n",
       "      <td>0.000470</td>\n",
       "      <td>0.000000</td>\n",
       "      <td>0.002689</td>\n",
       "      <td>0.001897</td>\n",
       "      <td>1.000000</td>\n",
       "      <td>0.067946</td>\n",
       "      <td>0.0</td>\n",
       "    </tr>\n",
       "    <tr>\n",
       "      <th>1</th>\n",
       "      <td>0.0</td>\n",
       "      <td>0.001084</td>\n",
       "      <td>0.002129</td>\n",
       "      <td>0.0000</td>\n",
       "      <td>0.000000</td>\n",
       "      <td>0.000000</td>\n",
       "      <td>0.000000</td>\n",
       "      <td>0.003383</td>\n",
       "      <td>0.000000</td>\n",
       "      <td>0.000000</td>\n",
       "      <td>0.012785</td>\n",
       "      <td>0.866667</td>\n",
       "      <td>0.019527</td>\n",
       "      <td>0.0</td>\n",
       "    </tr>\n",
       "    <tr>\n",
       "      <th>2</th>\n",
       "      <td>0.0</td>\n",
       "      <td>0.003823</td>\n",
       "      <td>0.005387</td>\n",
       "      <td>0.0000</td>\n",
       "      <td>0.000000</td>\n",
       "      <td>0.000000</td>\n",
       "      <td>0.022256</td>\n",
       "      <td>0.020733</td>\n",
       "      <td>0.001094</td>\n",
       "      <td>0.005042</td>\n",
       "      <td>0.004736</td>\n",
       "      <td>1.000000</td>\n",
       "      <td>0.206235</td>\n",
       "      <td>0.0</td>\n",
       "    </tr>\n",
       "    <tr>\n",
       "      <th>3</th>\n",
       "      <td>0.0</td>\n",
       "      <td>0.000008</td>\n",
       "      <td>0.000087</td>\n",
       "      <td>0.0000</td>\n",
       "      <td>0.000000</td>\n",
       "      <td>0.000000</td>\n",
       "      <td>0.000000</td>\n",
       "      <td>0.000000</td>\n",
       "      <td>0.000000</td>\n",
       "      <td>0.000000</td>\n",
       "      <td>0.000000</td>\n",
       "      <td>0.133333</td>\n",
       "      <td>0.011876</td>\n",
       "      <td>0.0</td>\n",
       "    </tr>\n",
       "    <tr>\n",
       "      <th>4</th>\n",
       "      <td>0.0</td>\n",
       "      <td>0.003909</td>\n",
       "      <td>0.006121</td>\n",
       "      <td>0.0000</td>\n",
       "      <td>0.000000</td>\n",
       "      <td>0.016304</td>\n",
       "      <td>0.030463</td>\n",
       "      <td>0.022987</td>\n",
       "      <td>0.000000</td>\n",
       "      <td>0.000000</td>\n",
       "      <td>0.011010</td>\n",
       "      <td>1.000000</td>\n",
       "      <td>0.102775</td>\n",
       "      <td>0.0</td>\n",
       "    </tr>\n",
       "  </tbody>\n",
       "</table>\n",
       "</div>"
      ],
      "text/plain": [
       "   product  reload_1  reload_2   video     music     games    chat_1  \\\n",
       "0      0.0  0.001138  0.001957  0.0317  0.042926  0.038048  0.000440   \n",
       "1      0.0  0.001084  0.002129  0.0000  0.000000  0.000000  0.000000   \n",
       "2      0.0  0.003823  0.005387  0.0000  0.000000  0.000000  0.022256   \n",
       "3      0.0  0.000008  0.000087  0.0000  0.000000  0.000000  0.000000   \n",
       "4      0.0  0.003909  0.006121  0.0000  0.000000  0.016304  0.030463   \n",
       "\n",
       "     chat_2  socmed_1  socmed_2  internet  days_active    tenure  churn  \n",
       "0  0.000470  0.000000  0.002689  0.001897     1.000000  0.067946    0.0  \n",
       "1  0.003383  0.000000  0.000000  0.012785     0.866667  0.019527    0.0  \n",
       "2  0.020733  0.001094  0.005042  0.004736     1.000000  0.206235    0.0  \n",
       "3  0.000000  0.000000  0.000000  0.000000     0.133333  0.011876    0.0  \n",
       "4  0.022987  0.000000  0.000000  0.011010     1.000000  0.102775    0.0  "
      ]
     },
     "execution_count": 8,
     "metadata": {},
     "output_type": "execute_result"
    }
   ],
   "source": [
    "scaler = MinMaxScaler()\n",
    "n_file = pd.DataFrame(scaler.fit_transform(file))\n",
    "n_file.columns = file.columns\n",
    "n_file.head()"
   ]
  },
  {
   "cell_type": "code",
   "execution_count": 9,
   "metadata": {},
   "outputs": [
    {
     "name": "stdout",
     "output_type": "stream",
     "text": [
      "(7000, 13) (3000, 13) (7000,) (3000,)\n"
     ]
    }
   ],
   "source": [
    "X = n_file.iloc[:,:-1]\n",
    "y = n_file.iloc[:,-1]\n",
    "\n",
    "X_train, X_test, y_train, y_test = train_test_split(X, y, random_state=67, \n",
    "                                                    test_size=.3, stratify=y)\n",
    "print(X_train.shape, X_test.shape, \n",
    "      y_train.shape, y_test.shape)"
   ]
  },
  {
   "cell_type": "code",
   "execution_count": 10,
   "metadata": {},
   "outputs": [
    {
     "data": {
      "text/plain": [
       "KNeighborsClassifier()"
      ]
     },
     "execution_count": 10,
     "metadata": {},
     "output_type": "execute_result"
    }
   ],
   "source": [
    "knn = KNeighborsClassifier(n_neighbors=5)\n",
    "knn.fit(X_train, y_train)"
   ]
  },
  {
   "cell_type": "code",
   "execution_count": 11,
   "metadata": {},
   "outputs": [
    {
     "data": {
      "image/png": "[encoded data removed]",
      "text/plain": [
       "<Figure size 432x288 with 2 Axes>"
      ]
     },
     "metadata": {
      "needs_background": "light"
     },
     "output_type": "display_data"
    }
   ],
   "source": [
    "plot_confusion_matrix(knn, X_train, y_train)\n",
    "plt.show()"
   ]
  },
  {
   "cell_type": "markdown",
   "metadata": {},
   "source": [
    "### Classification"
   ]
  },
  {
   "cell_type": "code",
   "execution_count": 12,
   "metadata": {},
   "outputs": [
    {
     "name": "stdout",
     "output_type": "stream",
     "text": [
      "              precision    recall  f1-score   support\n",
      "\n",
      "         0.0       0.93      0.98      0.96      5600\n",
      "         1.0       0.90      0.72      0.80      1400\n",
      "\n",
      "    accuracy                           0.93      7000\n",
      "   macro avg       0.92      0.85      0.88      7000\n",
      "weighted avg       0.93      0.93      0.93      7000\n",
      "\n"
     ]
    }
   ],
   "source": [
    "print(classification_report(y_train, knn.predict(X_train)))"
   ]
  },
  {
   "cell_type": "code",
   "execution_count": 13,
   "metadata": {},
   "outputs": [
    {
     "name": "stdout",
     "output_type": "stream",
     "text": [
      "              precision    recall  f1-score   support\n",
      "\n",
      "         0.0       0.91      0.97      0.94      2400\n",
      "         1.0       0.84      0.63      0.72       600\n",
      "\n",
      "    accuracy                           0.90      3000\n",
      "   macro avg       0.88      0.80      0.83      3000\n",
      "weighted avg       0.90      0.90      0.90      3000\n",
      "\n"
     ]
    }
   ],
   "source": [
    "print(classification_report(y_test, knn.predict(X_test)))"
   ]
  },
  {
   "cell_type": "markdown",
   "metadata": {},
   "source": [
    "### Accuracy"
   ]
  },
  {
   "cell_type": "code",
   "execution_count": 14,
   "metadata": {},
   "outputs": [
    {
     "name": "stdout",
     "output_type": "stream",
     "text": [
      "Accuracy Score for Training Dataset = 0.93\n",
      "Accuracy Score for Testing Dataset = 0.9\n"
     ]
    }
   ],
   "source": [
    "# print('Accuracy Score for Training Dataset = ', accuracy_score(y_train, knn.predict(X_train)))\n",
    "# print('Accuracy Score for Testing Dataset = ', accuracy_score(y_test, knn.predict(X_test)))\n",
    "akurasi_training = accuracy_score(y_train, knn.predict(X_train))\n",
    "akurasi_testing = accuracy_score(y_test, knn.predict(X_test))\n",
    "print(f'Accuracy Score for Training Dataset = {float(akurasi_training):.2}')\n",
    "print(f'Accuracy Score for Testing Dataset = {float(akurasi_testing):.2}')"
   ]
  },
  {
   "cell_type": "markdown",
   "metadata": {},
   "source": [
    "### Precision"
   ]
  },
  {
   "cell_type": "code",
   "execution_count": 15,
   "metadata": {},
   "outputs": [
    {
     "name": "stdout",
     "output_type": "stream",
     "text": [
      "Precision Score for Training Dataset = 0.9\n",
      "Precision Score for Testing Dataset = 0.84\n"
     ]
    }
   ],
   "source": [
    "# print('Precision Score for Training Dataset = ', precision_score(y_train, knn.predict(X_train)))\n",
    "# print('Precision Score for Testing Dataset = ', precision_score(y_test, knn.predict(X_test)))\n",
    "presisi_training = precision_score(y_train, knn.predict(X_train))\n",
    "presisi_testing = precision_score(y_test, knn.predict(X_test))\n",
    "print(f'Precision Score for Training Dataset = {float(presisi_training):.2}')\n",
    "print(f'Precision Score for Testing Dataset = {float(presisi_testing):.2}')"
   ]
  },
  {
   "cell_type": "markdown",
   "metadata": {},
   "source": [
    "### Recall"
   ]
  },
  {
   "cell_type": "code",
   "execution_count": 16,
   "metadata": {},
   "outputs": [
    {
     "name": "stdout",
     "output_type": "stream",
     "text": [
      "Recall Score for Training Dataset = 0.72\n",
      "Recall Score for Testing Dataset = 0.63\n"
     ]
    }
   ],
   "source": [
    "# print('Recall Score for Training Dataset = ', recall_score(y_train, knn.predict(X_train)))\n",
    "# print('Recall Score for Testing Dataset = ', recall_score(y_test, knn.predict(X_test)))\n",
    "recall_training = recall_score(y_train, knn.predict(X_train))\n",
    "recall_testing = recall_score(y_test, knn.predict(X_test))\n",
    "print(f'Recall Score for Training Dataset = {float(recall_training):.2}')\n",
    "print(f'Recall Score for Testing Dataset = {float(recall_testing):.2}')"
   ]
  },
  {
   "cell_type": "markdown",
   "metadata": {},
   "source": [
    "### Visualization"
   ]
  },
  {
   "cell_type": "code",
   "execution_count": 17,
   "metadata": {},
   "outputs": [],
   "source": [
    "# accuracy\n",
    "acc_training = []\n",
    "acc_test = []\n",
    "\n",
    "for i in range(3,13,1):\n",
    "  model = KNeighborsClassifier(n_neighbors=i)\n",
    "  model.fit(X_train, y_train)\n",
    "  acc_training.append(accuracy_score(y_train, model.predict(X_train)))\n",
    "  acc_test.append(accuracy_score(y_test, model.predict(X_test)))"
   ]
  },
  {
   "cell_type": "code",
   "execution_count": 18,
   "metadata": {},
   "outputs": [],
   "source": [
    "# Precision\n",
    "prec_training = []\n",
    "prec_test = []\n",
    "\n",
    "for i in range(3,13,1):\n",
    "  model = KNeighborsClassifier(n_neighbors=i)\n",
    "  model.fit(X_train, y_train)\n",
    "  prec_training.append(precision_score(y_train, model.predict(X_train)))\n",
    "  prec_test.append(precision_score(y_test, model.predict(X_test)))"
   ]
  },
  {
   "cell_type": "code",
   "execution_count": 19,
   "metadata": {},
   "outputs": [],
   "source": [
    "# Recall\n",
    "rec_training = []\n",
    "rec_test = []\n",
    "\n",
    "for i in range(3,13,1):\n",
    "  model = KNeighborsClassifier(n_neighbors=i)\n",
    "  model.fit(X_train, y_train)\n",
    "  rec_training.append(recall_score(y_train, \n",
    "                                   model.predict(X_train)))\n",
    "  rec_test.append(recall_score(y_test, \n",
    "                               model.predict(X_test)))"
   ]
  },
  {
   "cell_type": "code",
   "execution_count": 20,
   "metadata": {},
   "outputs": [
    {
     "data": {
      "text/html": [
       "<div>\n",
       "<style scoped>\n",
       "    .dataframe tbody tr th:only-of-type {\n",
       "        vertical-align: middle;\n",
       "    }\n",
       "\n",
       "    .dataframe tbody tr th {\n",
       "        vertical-align: top;\n",
       "    }\n",
       "\n",
       "    .dataframe thead th {\n",
       "        text-align: right;\n",
       "    }\n",
       "</style>\n",
       "<table border=\"1\" class=\"dataframe\">\n",
       "  <thead>\n",
       "    <tr style=\"text-align: right;\">\n",
       "      <th></th>\n",
       "      <th>k</th>\n",
       "      <th>Training Accuracy</th>\n",
       "      <th>Testing Accuracy</th>\n",
       "      <th>Training Precision</th>\n",
       "      <th>Testing Precision</th>\n",
       "      <th>Training Recall</th>\n",
       "      <th>Testing Recall</th>\n",
       "    </tr>\n",
       "  </thead>\n",
       "  <tbody>\n",
       "    <tr>\n",
       "      <th>0</th>\n",
       "      <td>3</td>\n",
       "      <td>0.944571</td>\n",
       "      <td>0.905667</td>\n",
       "      <td>0.914754</td>\n",
       "      <td>0.826804</td>\n",
       "      <td>0.797143</td>\n",
       "      <td>0.668333</td>\n",
       "    </tr>\n",
       "    <tr>\n",
       "      <th>1</th>\n",
       "      <td>4</td>\n",
       "      <td>0.926714</td>\n",
       "      <td>0.901333</td>\n",
       "      <td>0.941294</td>\n",
       "      <td>0.865385</td>\n",
       "      <td>0.675714</td>\n",
       "      <td>0.600000</td>\n",
       "    </tr>\n",
       "    <tr>\n",
       "      <th>2</th>\n",
       "      <td>5</td>\n",
       "      <td>0.928857</td>\n",
       "      <td>0.902000</td>\n",
       "      <td>0.901961</td>\n",
       "      <td>0.837004</td>\n",
       "      <td>0.722857</td>\n",
       "      <td>0.633333</td>\n",
       "    </tr>\n",
       "    <tr>\n",
       "      <th>3</th>\n",
       "      <td>6</td>\n",
       "      <td>0.917286</td>\n",
       "      <td>0.898333</td>\n",
       "      <td>0.922760</td>\n",
       "      <td>0.866005</td>\n",
       "      <td>0.640000</td>\n",
       "      <td>0.581667</td>\n",
       "    </tr>\n",
       "    <tr>\n",
       "      <th>4</th>\n",
       "      <td>7</td>\n",
       "      <td>0.918571</td>\n",
       "      <td>0.900000</td>\n",
       "      <td>0.887127</td>\n",
       "      <td>0.839367</td>\n",
       "      <td>0.679286</td>\n",
       "      <td>0.618333</td>\n",
       "    </tr>\n",
       "    <tr>\n",
       "      <th>5</th>\n",
       "      <td>8</td>\n",
       "      <td>0.909429</td>\n",
       "      <td>0.895333</td>\n",
       "      <td>0.913607</td>\n",
       "      <td>0.866667</td>\n",
       "      <td>0.604286</td>\n",
       "      <td>0.563333</td>\n",
       "    </tr>\n",
       "    <tr>\n",
       "      <th>6</th>\n",
       "      <td>9</td>\n",
       "      <td>0.909429</td>\n",
       "      <td>0.895333</td>\n",
       "      <td>0.882236</td>\n",
       "      <td>0.840476</td>\n",
       "      <td>0.631429</td>\n",
       "      <td>0.588333</td>\n",
       "    </tr>\n",
       "    <tr>\n",
       "      <th>7</th>\n",
       "      <td>10</td>\n",
       "      <td>0.903714</td>\n",
       "      <td>0.891333</td>\n",
       "      <td>0.893709</td>\n",
       "      <td>0.854922</td>\n",
       "      <td>0.588571</td>\n",
       "      <td>0.550000</td>\n",
       "    </tr>\n",
       "    <tr>\n",
       "      <th>8</th>\n",
       "      <td>11</td>\n",
       "      <td>0.905000</td>\n",
       "      <td>0.895000</td>\n",
       "      <td>0.870838</td>\n",
       "      <td>0.840095</td>\n",
       "      <td>0.616429</td>\n",
       "      <td>0.586667</td>\n",
       "    </tr>\n",
       "    <tr>\n",
       "      <th>9</th>\n",
       "      <td>12</td>\n",
       "      <td>0.900000</td>\n",
       "      <td>0.886667</td>\n",
       "      <td>0.883772</td>\n",
       "      <td>0.847594</td>\n",
       "      <td>0.575714</td>\n",
       "      <td>0.528333</td>\n",
       "    </tr>\n",
       "  </tbody>\n",
       "</table>\n",
       "</div>"
      ],
      "text/plain": [
       "    k  Training Accuracy  Testing Accuracy  Training Precision  \\\n",
       "0   3           0.944571          0.905667            0.914754   \n",
       "1   4           0.926714          0.901333            0.941294   \n",
       "2   5           0.928857          0.902000            0.901961   \n",
       "3   6           0.917286          0.898333            0.922760   \n",
       "4   7           0.918571          0.900000            0.887127   \n",
       "5   8           0.909429          0.895333            0.913607   \n",
       "6   9           0.909429          0.895333            0.882236   \n",
       "7  10           0.903714          0.891333            0.893709   \n",
       "8  11           0.905000          0.895000            0.870838   \n",
       "9  12           0.900000          0.886667            0.883772   \n",
       "\n",
       "   Testing Precision  Training Recall  Testing Recall  \n",
       "0           0.826804         0.797143        0.668333  \n",
       "1           0.865385         0.675714        0.600000  \n",
       "2           0.837004         0.722857        0.633333  \n",
       "3           0.866005         0.640000        0.581667  \n",
       "4           0.839367         0.679286        0.618333  \n",
       "5           0.866667         0.604286        0.563333  \n",
       "6           0.840476         0.631429        0.588333  \n",
       "7           0.854922         0.588571        0.550000  \n",
       "8           0.840095         0.616429        0.586667  \n",
       "9           0.847594         0.575714        0.528333  "
      ]
     },
     "execution_count": 20,
     "metadata": {},
     "output_type": "execute_result"
    }
   ],
   "source": [
    "metr = pd.DataFrame({'k' : range(3,13), \n",
    "                     'Training Accuracy' : acc_training, \n",
    "                     'Testing Accuracy' : acc_test,\n",
    "                     'Training Precision' : prec_training, \n",
    "                     'Testing Precision' : prec_test,\n",
    "                     'Training Recall' : rec_training, \n",
    "                     'Testing Recall' : rec_test,})\n",
    "metr"
   ]
  },
  {
   "cell_type": "code",
   "execution_count": 21,
   "metadata": {},
   "outputs": [
    {
     "data": {
      "image/png": "[encoded data removed]",
      "text/plain": [
       "<Figure size 1656x360 with 3 Axes>"
      ]
     },
     "metadata": {
      "needs_background": "light"
     },
     "output_type": "display_data"
    }
   ],
   "source": [
    "# mengatur panjang dan lebar grafik\n",
    "plt.figure(figsize=(23,5))\n",
    "# Line plot Accuracy\n",
    "plt.subplot(131)\n",
    "plt.title(\"Ini Accuracy\")\n",
    "plt.xlabel('Nilai K')\n",
    "plt.ylabel('Nilai skor')\n",
    "plt.plot(metr['Training Accuracy'].values)\n",
    "plt.plot(metr['Testing Accuracy'].values,'m')\n",
    "plt.legend(labels=['Training','Testing'], loc='best')\n",
    "# Line plot Precision\n",
    "plt.subplot(132)\n",
    "plt.title(\"Ini Precision\")\n",
    "plt.xlabel('Nilai K')\n",
    "plt.ylabel('Nilai skor')\n",
    "plt.plot(metr['Training Precision'].values)\n",
    "plt.plot(metr['Testing Precision'].values)\n",
    "plt.legend(labels=['Training','Testing'], loc='best')\n",
    "# Line plot Recall\n",
    "plt.subplot(133)\n",
    "plt.title(\"Ini Recall\")\n",
    "plt.xlabel('Nilai K')\n",
    "plt.ylabel('Nilai skor')\n",
    "plt.plot(metr['Training Recall'].values, 'red')\n",
    "plt.plot(metr['Testing Recall'].values, 'orange')\n",
    "plt.legend(labels=['Training','Testing'], loc='best')\n",
    "plt.show()"
   ]
  },
  {
   "cell_type": "code",
   "execution_count": 22,
   "metadata": {},
   "outputs": [
    {
     "data": {
      "image/png": "[encoded data removed]",
      "text/plain": [
       "<Figure size 1800x360 with 2 Axes>"
      ]
     },
     "metadata": {
      "needs_background": "light"
     },
     "output_type": "display_data"
    }
   ],
   "source": [
    "# mengatur panjang dan lebar grafik\n",
    "plt.figure(figsize=(25,5))\n",
    "\n",
    "# Bagian plot training data\n",
    "plt.subplot(131)\n",
    "plt.title(\"Ini Training\")\n",
    "plt.xlabel('Nilai K')\n",
    "plt.ylabel('Nilai skor')\n",
    "plt.plot(metr['Training Accuracy'].values)\n",
    "plt.plot(metr['Training Precision'].values,'m')\n",
    "plt.plot(metr['Training Recall'].values, 'red')\n",
    "plt.legend(labels=['Accuracy','Precision', 'Recall'], loc='best')\n",
    "\n",
    "# Bagian plot testing data\n",
    "plt.subplot(132)\n",
    "plt.title(\"Ini Testing\")\n",
    "plt.xlabel('Nilai K')\n",
    "plt.ylabel('Nilai skor')\n",
    "plt.plot(metr['Testing Accuracy'].values)\n",
    "plt.plot(metr['Testing Precision'].values,'m')\n",
    "plt.plot(metr['Testing Recall'].values, 'red')\n",
    "plt.legend(labels=['Accuracy','Precision', 'Recall'], loc='best')\n",
    "plt.show()"
   ]
  },
  {
   "cell_type": "code",
   "execution_count": 23,
   "metadata": {},
   "outputs": [
    {
     "data": {
      "text/html": [
       "<div>\n",
       "<style scoped>\n",
       "    .dataframe tbody tr th:only-of-type {\n",
       "        vertical-align: middle;\n",
       "    }\n",
       "\n",
       "    .dataframe tbody tr th {\n",
       "        vertical-align: top;\n",
       "    }\n",
       "\n",
       "    .dataframe thead th {\n",
       "        text-align: right;\n",
       "    }\n",
       "</style>\n",
       "<table border=\"1\" class=\"dataframe\">\n",
       "  <thead>\n",
       "    <tr style=\"text-align: right;\">\n",
       "      <th></th>\n",
       "      <th>k</th>\n",
       "      <th>Training Accuracy</th>\n",
       "      <th>Testing Accuracy</th>\n",
       "      <th>Training Precision</th>\n",
       "      <th>Testing Precision</th>\n",
       "      <th>Training Recall</th>\n",
       "      <th>Testing Recall</th>\n",
       "    </tr>\n",
       "  </thead>\n",
       "  <tbody>\n",
       "    <tr>\n",
       "      <th>0</th>\n",
       "      <td>3</td>\n",
       "      <td>0.944571</td>\n",
       "      <td>0.905667</td>\n",
       "      <td>0.914754</td>\n",
       "      <td>0.826804</td>\n",
       "      <td>0.797143</td>\n",
       "      <td>0.668333</td>\n",
       "    </tr>\n",
       "    <tr>\n",
       "      <th>1</th>\n",
       "      <td>4</td>\n",
       "      <td>0.926714</td>\n",
       "      <td>0.901333</td>\n",
       "      <td>0.941294</td>\n",
       "      <td>0.865385</td>\n",
       "      <td>0.675714</td>\n",
       "      <td>0.600000</td>\n",
       "    </tr>\n",
       "    <tr>\n",
       "      <th>2</th>\n",
       "      <td>5</td>\n",
       "      <td>0.928857</td>\n",
       "      <td>0.902000</td>\n",
       "      <td>0.901961</td>\n",
       "      <td>0.837004</td>\n",
       "      <td>0.722857</td>\n",
       "      <td>0.633333</td>\n",
       "    </tr>\n",
       "    <tr>\n",
       "      <th>3</th>\n",
       "      <td>6</td>\n",
       "      <td>0.917286</td>\n",
       "      <td>0.898333</td>\n",
       "      <td>0.922760</td>\n",
       "      <td>0.866005</td>\n",
       "      <td>0.640000</td>\n",
       "      <td>0.581667</td>\n",
       "    </tr>\n",
       "    <tr>\n",
       "      <th>4</th>\n",
       "      <td>7</td>\n",
       "      <td>0.918571</td>\n",
       "      <td>0.900000</td>\n",
       "      <td>0.887127</td>\n",
       "      <td>0.839367</td>\n",
       "      <td>0.679286</td>\n",
       "      <td>0.618333</td>\n",
       "    </tr>\n",
       "    <tr>\n",
       "      <th>5</th>\n",
       "      <td>8</td>\n",
       "      <td>0.909429</td>\n",
       "      <td>0.895333</td>\n",
       "      <td>0.913607</td>\n",
       "      <td>0.866667</td>\n",
       "      <td>0.604286</td>\n",
       "      <td>0.563333</td>\n",
       "    </tr>\n",
       "    <tr>\n",
       "      <th>6</th>\n",
       "      <td>9</td>\n",
       "      <td>0.909429</td>\n",
       "      <td>0.895333</td>\n",
       "      <td>0.882236</td>\n",
       "      <td>0.840476</td>\n",
       "      <td>0.631429</td>\n",
       "      <td>0.588333</td>\n",
       "    </tr>\n",
       "    <tr>\n",
       "      <th>7</th>\n",
       "      <td>10</td>\n",
       "      <td>0.903714</td>\n",
       "      <td>0.891333</td>\n",
       "      <td>0.893709</td>\n",
       "      <td>0.854922</td>\n",
       "      <td>0.588571</td>\n",
       "      <td>0.550000</td>\n",
       "    </tr>\n",
       "    <tr>\n",
       "      <th>8</th>\n",
       "      <td>11</td>\n",
       "      <td>0.905000</td>\n",
       "      <td>0.895000</td>\n",
       "      <td>0.870838</td>\n",
       "      <td>0.840095</td>\n",
       "      <td>0.616429</td>\n",
       "      <td>0.586667</td>\n",
       "    </tr>\n",
       "    <tr>\n",
       "      <th>9</th>\n",
       "      <td>12</td>\n",
       "      <td>0.900000</td>\n",
       "      <td>0.886667</td>\n",
       "      <td>0.883772</td>\n",
       "      <td>0.847594</td>\n",
       "      <td>0.575714</td>\n",
       "      <td>0.528333</td>\n",
       "    </tr>\n",
       "  </tbody>\n",
       "</table>\n",
       "</div>"
      ],
      "text/plain": [
       "    k  Training Accuracy  Testing Accuracy  Training Precision  \\\n",
       "0   3           0.944571          0.905667            0.914754   \n",
       "1   4           0.926714          0.901333            0.941294   \n",
       "2   5           0.928857          0.902000            0.901961   \n",
       "3   6           0.917286          0.898333            0.922760   \n",
       "4   7           0.918571          0.900000            0.887127   \n",
       "5   8           0.909429          0.895333            0.913607   \n",
       "6   9           0.909429          0.895333            0.882236   \n",
       "7  10           0.903714          0.891333            0.893709   \n",
       "8  11           0.905000          0.895000            0.870838   \n",
       "9  12           0.900000          0.886667            0.883772   \n",
       "\n",
       "   Testing Precision  Training Recall  Testing Recall  \n",
       "0           0.826804         0.797143        0.668333  \n",
       "1           0.865385         0.675714        0.600000  \n",
       "2           0.837004         0.722857        0.633333  \n",
       "3           0.866005         0.640000        0.581667  \n",
       "4           0.839367         0.679286        0.618333  \n",
       "5           0.866667         0.604286        0.563333  \n",
       "6           0.840476         0.631429        0.588333  \n",
       "7           0.854922         0.588571        0.550000  \n",
       "8           0.840095         0.616429        0.586667  \n",
       "9           0.847594         0.575714        0.528333  "
      ]
     },
     "execution_count": 23,
     "metadata": {},
     "output_type": "execute_result"
    }
   ],
   "source": [
    "metr"
   ]
  },
  {
   "cell_type": "code",
   "execution_count": 24,
   "metadata": {},
   "outputs": [
    {
     "name": "stdout",
     "output_type": "stream",
     "text": [
      "Akurasi training terbaik adalah\t= 0.94457\n",
      "Akurasi testing terbaik adalah\t= 0.90567\n",
      "Presisi training terbaik adalah\t= 0.94129\n",
      "Presisi testing terbaik adalah\t= 0.86667\n",
      "Recall training terbaik adalah\t= 0.79714\n",
      "Recall testing terbaik adalah\t= 0.66833\n"
     ]
    }
   ],
   "source": [
    "high_training_accuracy = max(acc_training)\n",
    "high_testing_accuracy = max(acc_test)\n",
    "high_training_precision = max(prec_training)\n",
    "high_testing_precision = max(prec_test)\n",
    "high_training_recall = max(rec_training)\n",
    "high_testing_recall = max(rec_test)\n",
    "print(f'Akurasi training terbaik adalah\\t= {float(high_training_accuracy):.5}')\n",
    "print(f'Akurasi testing terbaik adalah\\t= {float(high_testing_accuracy):.5}')\n",
    "print(f'Presisi training terbaik adalah\\t= {float(high_training_precision):.5}')\n",
    "print(f'Presisi testing terbaik adalah\\t= {float(high_testing_precision):.5}')\n",
    "print(f'Recall training terbaik adalah\\t= {float(high_training_recall):.5}')\n",
    "print(f'Recall testing terbaik adalah\\t= {float(high_testing_recall):.5}')"
   ]
  }
 ],
 "metadata": {
  "kernelspec": {
   "display_name": "Python 3.9.12 ('base')",
   "language": "python",
   "name": "python3"
  },
  "language_info": {
   "codemirror_mode": {
    "name": "ipython",
    "version": 3
   },
   "file_extension": ".py",
   "mimetype": "text/x-python",
   "name": "python",
   "nbconvert_exporter": "python",
   "pygments_lexer": "ipython3",
   "version": "3.9.12"
  },
  "orig_nbformat": 4,
  "vscode": {
   "interpreter": {
    "hash": "fc6a87218d93c3eb3aa29305b960fd7fc714f48d8ac50960275ef4f8856ba0fd"
   }
  }
 },
 "nbformat": 4,
 "nbformat_minor": 2
}
